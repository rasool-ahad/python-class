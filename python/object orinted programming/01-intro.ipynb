{
 "cells": [
  {
   "cell_type": "markdown",
   "id": "f4555020-06da-4dda-bc80-59fa9a8e8037",
   "metadata": {},
   "source": [
    "# Intro"
   ]
  },
  {
   "cell_type": "markdown",
   "id": "6139eeb1-4697-4a31-bfa9-439a738e5f88",
   "metadata": {},
   "source": [
    "* [Programming Paradigms](#Programming-Paradigms)"
   ]
  },
  {
   "cell_type": "markdown",
   "id": "b910d6aa-4e31-423b-b9ff-1a85df9d1b28",
   "metadata": {},
   "source": [
    "## Programming Paradigms"
   ]
  },
  {
   "cell_type": "markdown",
   "id": "e8b6f87d-1c75-4530-8de9-7c7a53ddbeb3",
   "metadata": {},
   "source": [
    "Programming paradigms are **different ways or styles in which a given program or programming language can be organized.** Each paradigm consists of certain structures, features, and opinions about how common programming problems should be tackled."
   ]
  },
  {
   "cell_type": "markdown",
   "id": "e13df155-0eff-4ddb-99cd-d3acd89dbcb7",
   "metadata": {},
   "source": [
    "The question of why are there many different programming paradigms is similar to why are there many programming languages. Certain paradigms are better suited for certain types of problems, so it makes sense to use different paradigms for different kinds of projects."
   ]
  },
  {
   "cell_type": "markdown",
   "id": "4cb43cec-79d0-4545-8cb7-b7aa8e029588",
   "metadata": {},
   "source": [
    "But there are also **\"multi-paradigm\"** languages, meaning you can adapt your code to fit a certain paradigm or another (JavaScript and Python are good examples)."
   ]
  },
  {
   "cell_type": "markdown",
   "id": "a10d8a1e-f122-44b3-982f-1b793d745622",
   "metadata": {},
   "source": [
    "some popular programming paragdims : "
   ]
  },
  {
   "cell_type": "markdown",
   "id": "f616a9c1-45f6-4e21-9e3a-f811a7062d36",
   "metadata": {},
   "source": [
    "**1. Imperative Programming:**"
   ]
  },
  {
   "cell_type": "markdown",
   "id": "030d534f-170f-4bb9-ae1d-9e5ab993dda5",
   "metadata": {},
   "source": [
    "Imperative programming consists of sets of detailed instructions that are given to the computer to execute in a given order. It's called \"imperative\" because as programmers we dictate exactly what the computer has to do, in a very specific way."
   ]
  },
  {
   "cell_type": "markdown",
   "id": "57db63b1-5dc1-478f-9f52-38f6050f185e",
   "metadata": {},
   "source": [
    "Imperative programming focuses on describing **how** a program operates, step by step."
   ]
  },
  {
   "cell_type": "markdown",
   "id": "c3f5a808-62ea-4c68-97de-ddf9b99ba273",
   "metadata": {},
   "source": [
    "Say you want to bake a cake. Your imperative program to do this might look like this (I'm not a great cook, so don't judge me 😒):"
   ]
  },
  {
   "cell_type": "markdown",
   "id": "f1b3077a-bc8b-48b6-9871-a264e467697e",
   "metadata": {},
   "source": [
    "1. Pour flour in a bowl\n",
    "2. Pour a couple eggs in the same bowl\n",
    "3. Pour some milk in the same bowl\n",
    "4. Mix the ingredients\n",
    "5. Pour the mix in a mold\n",
    "6. Cook for 35 minutes\n",
    "7. Let chill"
   ]
  },
  {
   "cell_type": "markdown",
   "id": "4470143a-323c-4dfc-bd83-82279d90eb11",
   "metadata": {},
   "source": [
    "**2. Procedural Programming:**"
   ]
  },
  {
   "cell_type": "markdown",
   "id": "6d789b8c-9891-470d-8e67-9728f28c1f71",
   "metadata": {},
   "source": [
    "Procedural programming is a **derivation of imperative programming**, adding to it the feature of functions (also known as \"procedures\" or \"subroutines\")."
   ]
  },
  {
   "cell_type": "raw",
   "id": "303c204f-e692-4a10-9af0-b0bb80609e94",
   "metadata": {},
   "source": [
    "function pourIngredients() {\n",
    "    - Pour flour in a bowl\n",
    "    - Pour a couple eggs in the same bowl\n",
    "    - Pour some milk in the same bowl\n",
    "}\n",
    "\n",
    "function mixAndTransferToMold() {\n",
    "    - Mix the ingredients\n",
    "    - Pour the mix in a mold\n",
    "}\n",
    "\n",
    "function cookAndLetChill() {\n",
    "    - Cook for 35 minutes\n",
    "    - Let chill\n",
    "}\n",
    "\n",
    "pourIngredients()\n",
    "mixAndTransferToMold()\n",
    "cookAndLetChill()"
   ]
  },
  {
   "cell_type": "markdown",
   "id": "73b608aa-e4bc-4eb9-b19d-f0da6a7f26d0",
   "metadata": {},
   "source": [
    "**3. Functional Programming** : "
   ]
  },
  {
   "cell_type": "markdown",
   "id": "f3804c78-21d0-436f-95ff-9ef231e04e5e",
   "metadata": {},
   "source": [
    "In functional programming, functions are **treated as first-class citizens**, meaning that they can be assigned to variables, passed as arguments, and returned from other functions."
   ]
  },
  {
   "cell_type": "markdown",
   "id": "ea964520-fbf4-42f0-aef5-5f8d7225548a",
   "metadata": {},
   "source": [
    "**4. Declarative Programming :** "
   ]
  },
  {
   "cell_type": "markdown",
   "id": "3354c07b-a440-4735-8ddd-6b0b6bd7b9e9",
   "metadata": {},
   "source": [
    "Declarative programming is all about **hiding away complexity and bringing programming languages closer to human language and thinking.** It's the direct opposite of imperative programming in the sense that the programmer doesn't give instructions about how the computer should execute the task, but rather on what result is needed."
   ]
  },
  {
   "cell_type": "markdown",
   "id": "14cf78c9-ccf8-4ee0-9379-9b86b5c6583b",
   "metadata": {},
   "source": [
    "> **note:** An important thing to notice about declarative programming is that under the hood, the computer processes this information as imperative code anyway."
   ]
  },
  {
   "cell_type": "markdown",
   "id": "eea63a3c-31b5-4f70-abcd-ca9763eea79f",
   "metadata": {},
   "source": [
    "**5. Object-Oriented Programming:**"
   ]
  },
  {
   "cell_type": "markdown",
   "id": "29205a58-9b9a-4545-8b9a-236f7098c840",
   "metadata": {},
   "source": [
    "Object-oriented programming (OOP) is a method of structuring a program by **bundling related properties and behaviors into individual objects.**"
   ]
  },
  {
   "cell_type": "markdown",
   "id": "c2b95f20-b7dc-44be-9988-dae05acefb08",
   "metadata": {
    "tags": []
   },
   "source": []
  }
 ],
 "metadata": {
  "kernelspec": {
   "display_name": "Python 3 (ipykernel)",
   "language": "python",
   "name": "python3"
  },
  "language_info": {
   "codemirror_mode": {
    "name": "ipython",
    "version": 3
   },
   "file_extension": ".py",
   "mimetype": "text/x-python",
   "name": "python",
   "nbconvert_exporter": "python",
   "pygments_lexer": "ipython3",
   "version": "3.9.12"
  }
 },
 "nbformat": 4,
 "nbformat_minor": 5
}
