{
 "cells": [
  {
   "cell_type": "markdown",
   "id": "ed66c9da-b864-451e-b09c-00ed106443af",
   "metadata": {},
   "source": [
    " # Lambda Functions"
   ]
  },
  {
   "cell_type": "markdown",
   "id": "f2d5799c-2a14-4b65-a782-d1a9b4548fb8",
   "metadata": {},
   "source": [
    "* [First example](#First-example)\n",
    "* [Anonymous Functions](#Anonymous-Functions)\n",
    "* [Type Annotations](#Type-Annotations)\n",
    "* [Arguments](#Arguments)\n",
    "* [Are Lambdas Pythonic or Not?](#Are-Lambdas-Pythonic-or-Not?)"
   ]
  },
  {
   "cell_type": "markdown",
   "id": "9d88ebe8-80a5-431e-b2be-e54f7d164718",
   "metadata": {},
   "source": [
    "Python and other languages like Java, C#, and even C++ have had lambda functions added to their syntax, whereas languages like LISP or the ML family of languages, Haskell, OCaml, and F#, use lambdas as a core concept."
   ]
  },
  {
   "cell_type": "markdown",
   "id": "ed80d1ab-289b-4bc1-a798-f149dfed089a",
   "metadata": {},
   "source": [
    "<hr>"
   ]
  },
  {
   "cell_type": "markdown",
   "id": "6b533ed7-51e9-4740-901a-bec29fd903d7",
   "metadata": {},
   "source": [
    "## First example"
   ]
  },
  {
   "cell_type": "markdown",
   "id": "ea8f8fd4-5fee-4456-ac34-348695c04e00",
   "metadata": {},
   "source": [
    "The identity function, a function that returns its argument, is expressed with a standard Python function definition using the **keyword** ``def`` as follows:"
   ]
  },
  {
   "cell_type": "code",
   "execution_count": 10,
   "id": "fba3a81c-3341-4053-bf8c-360b69071005",
   "metadata": {},
   "outputs": [],
   "source": [
    "def identity(x):\n",
    "     return x"
   ]
  },
  {
   "cell_type": "markdown",
   "id": "6e2a003a-23a2-4831-a539-b82e6af9e24e",
   "metadata": {},
   "source": [
    "In contrast, if you use a Python **lambda** construction, you get the following:"
   ]
  },
  {
   "cell_type": "code",
   "execution_count": 12,
   "id": "2bb955ff-4e24-4b6d-b0e7-59c617c5fb9b",
   "metadata": {},
   "outputs": [
    {
     "data": {
      "text/plain": [
       "<function __main__.<lambda>(x)>"
      ]
     },
     "execution_count": 12,
     "metadata": {},
     "output_type": "execute_result"
    }
   ],
   "source": [
    "lambda x: x"
   ]
  },
  {
   "cell_type": "markdown",
   "id": "3f45638c-9c45-41a4-bac6-5e6243ef6576",
   "metadata": {},
   "source": [
    "In the example above, the expression is composed of:\n",
    "\n",
    "* **The keyword**: lambda\n",
    "* **A bound variable**: x\n",
    "* **A body**: x"
   ]
  },
  {
   "cell_type": "markdown",
   "id": "ebfb2f2a-f677-4291-9a82-4ae7ef0503dc",
   "metadata": {},
   "source": [
    "You can write a slightly more elaborated example, a function that adds 1 to an argument, as follows:"
   ]
  },
  {
   "cell_type": "code",
   "execution_count": null,
   "id": "6927bda0-2023-4e90-b1bc-122a0fe2f13d",
   "metadata": {},
   "outputs": [],
   "source": [
    "lambda x: x + 1 "
   ]
  },
  {
   "cell_type": "markdown",
   "id": "0b04b66f-4a01-4bfb-acd4-3dfe97795eba",
   "metadata": {},
   "source": [
    "its a function so we can call this function :"
   ]
  },
  {
   "cell_type": "code",
   "execution_count": 16,
   "id": "901a62fe-06eb-4dc7-bd5b-12995b15a2b4",
   "metadata": {},
   "outputs": [
    {
     "data": {
      "text/plain": [
       "3"
      ]
     },
     "execution_count": 16,
     "metadata": {},
     "output_type": "execute_result"
    }
   ],
   "source": [
    "(lambda x: x + 1)(2)"
   ]
  },
  {
   "cell_type": "raw",
   "id": "36aa75fd-8bbb-4b70-bda8-b264ed4e1ac7",
   "metadata": {},
   "source": [
    "(lambda x: x + 1)(2) = lambda 2: 2 + 1\n",
    "                     = 2 + 1\n",
    "                     = 3"
   ]
  },
  {
   "cell_type": "markdown",
   "id": "30b4d12d-369e-4a05-91f4-5ce8bfe5475b",
   "metadata": {},
   "source": [
    "lambda functions can be named. Therefore you could write the previous code as follows:"
   ]
  },
  {
   "cell_type": "code",
   "execution_count": 20,
   "id": "4160e312-b110-4458-8116-74532c1e6223",
   "metadata": {},
   "outputs": [
    {
     "data": {
      "text/plain": [
       "3"
      ]
     },
     "execution_count": 20,
     "metadata": {},
     "output_type": "execute_result"
    }
   ],
   "source": [
    "add_one = lambda x: x + 1\n",
    "add_one(2)"
   ]
  },
  {
   "cell_type": "markdown",
   "id": "8986cc30-d378-4e0a-900e-ef2cf058fb61",
   "metadata": {},
   "source": [
    "These functions all take a single argument. You may have noticed that, in the definition of the lambdas, the **arguments don’t have parentheses** around them. Multi-argument functions (functions that take more than one argument) are expressed in Python lambdas by listing arguments and **separating them with a comma (,)** but without surrounding them with parentheses:"
   ]
  },
  {
   "cell_type": "code",
   "execution_count": 23,
   "id": "aa875ba5-c2a3-4e80-b52e-14794dd5c023",
   "metadata": {},
   "outputs": [
    {
     "data": {
      "text/plain": [
       "'Full name: Rasool Ahadi'"
      ]
     },
     "execution_count": 23,
     "metadata": {},
     "output_type": "execute_result"
    }
   ],
   "source": [
    "full_name = lambda first, last: f'Full name: {first.title()} {last.title()}'\n",
    "full_name(\"rasool\" , \"ahadi\")"
   ]
  },
  {
   "cell_type": "markdown",
   "id": "1f2cc3b1-552d-4214-aed7-8244fd7abe52",
   "metadata": {},
   "source": [
    "## Anonymous Functions"
   ]
  },
  {
   "cell_type": "markdown",
   "id": "7fb4f8f6-d9d0-4db0-a7c4-9c5512ec8180",
   "metadata": {},
   "source": [
    "Taken literally, **an anonymous function is a function without a name.** In Python, an anonymous function is created with the ``lambda`` keyword. More loosely, it may or not be assigned a name."
   ]
  },
  {
   "cell_type": "code",
   "execution_count": 26,
   "id": "d7641228-2211-4551-822f-bd3ec6c3e37d",
   "metadata": {},
   "outputs": [
    {
     "data": {
      "text/plain": [
       "<function __main__.<lambda>(x, y)>"
      ]
     },
     "execution_count": 26,
     "metadata": {},
     "output_type": "execute_result"
    }
   ],
   "source": [
    "lambda x, y: x + y"
   ]
  },
  {
   "cell_type": "markdown",
   "id": "142b4bdb-9cf4-4a55-b457-872bcfc32b15",
   "metadata": {},
   "source": [
    "> **Note:** In the interactive interpreter, the **single underscore (_) is bound to the last expression evaluated.**"
   ]
  },
  {
   "cell_type": "code",
   "execution_count": 29,
   "id": "db085168-2eb1-447e-8a8a-790d274f170e",
   "metadata": {},
   "outputs": [
    {
     "data": {
      "text/plain": [
       "5"
      ]
     },
     "execution_count": 29,
     "metadata": {},
     "output_type": "execute_result"
    }
   ],
   "source": [
    "_(2,3)"
   ]
  },
  {
   "cell_type": "markdown",
   "id": "7b6dbc79-28e9-407a-9177-6c263c314787",
   "metadata": {},
   "source": [
    "Another pattern used in other languages like JavaScript is to immediately execute a Python lambda function. This is known as an **Immediately Invoked Function Expression** (IIFE, pronounce “iffy”). Here’s an example:"
   ]
  },
  {
   "cell_type": "code",
   "execution_count": 32,
   "id": "cbe11deb-2e14-4b5a-8c65-5a860f93d879",
   "metadata": {},
   "outputs": [
    {
     "data": {
      "text/plain": [
       "5"
      ]
     },
     "execution_count": 32,
     "metadata": {},
     "output_type": "execute_result"
    }
   ],
   "source": [
    "(lambda x, y: x + y)(2, 3)"
   ]
  },
  {
   "cell_type": "markdown",
   "id": "d1759664-a56a-4180-870a-11314655e672",
   "metadata": {},
   "source": [
    "> **note** :Python does not encourage using immediately invoked lambda expressions"
   ]
  },
  {
   "cell_type": "markdown",
   "id": "e42d41d9-0d72-4a7e-9663-1ccf38b6e095",
   "metadata": {},
   "source": [
    "Lambda functions are frequently used with **higher-order functions**, which take one or more functions as arguments or return one or more functions.\n",
    "A lambda function can be a higher-order function by taking a function (normal or lambda) as an argument like in the following contrived example:"
   ]
  },
  {
   "cell_type": "markdown",
   "id": "674f3dd5-8503-4f6e-97e3-5615fa22ffe0",
   "metadata": {},
   "source": [
    "Python exposes higher-order functions as built-in functions or in the standard library. Examples include ``map()``, ``filter()``, ``functools.reduce()``, as well as key functions like ``sort()``, ``sorted()``, ``min()``, and ``max()``. You’ll use lambda functions together with Python higher-order functions in Appropriate Uses of Lambda Expressions."
   ]
  },
  {
   "cell_type": "markdown",
   "id": "cfac7fde-855f-4313-8768-161905425654",
   "metadata": {},
   "source": [
    "> Unlike lambda forms in other languages, where they add functionality, **Python lambdas are only a shorthand notation if you’re too lazy to define a function.** "
   ]
  },
  {
   "cell_type": "code",
   "execution_count": 38,
   "id": "6942f923-bf81-4db1-8e05-309b69f02ffe",
   "metadata": {},
   "outputs": [
    {
     "data": {
      "text/plain": [
       "[2, 3, 4, 5]"
      ]
     },
     "execution_count": 38,
     "metadata": {},
     "output_type": "execute_result"
    }
   ],
   "source": [
    "lst= [1,2,3,4]\n",
    "list(map(lambda x:x+1 , lst))"
   ]
  },
  {
   "cell_type": "code",
   "execution_count": 47,
   "id": "8a405e71-c3c7-4ebc-a412-81bb940f89f6",
   "metadata": {},
   "outputs": [
    {
     "data": {
      "text/plain": [
       "['Cat', 'Dog', 'Cow']"
      ]
     },
     "execution_count": 47,
     "metadata": {},
     "output_type": "execute_result"
    }
   ],
   "source": [
    "list(map(lambda x: x.capitalize(), ['cat', 'dog', 'cow']))"
   ]
  },
  {
   "cell_type": "markdown",
   "id": "772bfe28-15b5-49a6-b95d-89e72fd682af",
   "metadata": {},
   "source": [
    "As you saw in the previous sections, a lambda form presents syntactic distinctions from a normal function. In particular, a lambda function has the following characteristics:\n",
    "\n",
    "* It can only contain expressions and can’t include statements in its body.\n",
    "* It is written as a single line of execution.\n",
    "* It does not support type annotations.\n",
    "* It can be immediately invoked (IIFE)."
   ]
  },
  {
   "cell_type": "markdown",
   "id": "d6ef613d-584f-430b-8bad-95e695036635",
   "metadata": {
    "tags": []
   },
   "source": [
    "## Type Annotations"
   ]
  },
  {
   "cell_type": "markdown",
   "id": "7132051d-ae62-4307-8751-3ea07a6e9526",
   "metadata": {},
   "source": [
    "If you’ve started adopting type hinting, which is now available in Python, then you have another good reason to prefer normal functions over Python lambda functions."
   ]
  },
  {
   "cell_type": "code",
   "execution_count": 42,
   "id": "e059f9b1-69f5-4f25-83b5-b97a6ef25e94",
   "metadata": {},
   "outputs": [
    {
     "ename": "SyntaxError",
     "evalue": "only single target (not tuple) can be annotated (1991070171.py, line 1)",
     "output_type": "error",
     "traceback": [
      "\u001b[1;36m  Input \u001b[1;32mIn [42]\u001b[1;36m\u001b[0m\n\u001b[1;33m    lambda first: str, last: str: first.title() + \" \" + last.title() -> str\u001b[0m\n\u001b[1;37m    ^\u001b[0m\n\u001b[1;31mSyntaxError\u001b[0m\u001b[1;31m:\u001b[0m only single target (not tuple) can be annotated\n"
     ]
    }
   ],
   "source": [
    "lambda first: str, last: str: first.title() + \" \" + last.title() -> str"
   ]
  },
  {
   "cell_type": "markdown",
   "id": "639f1959-4fd6-43fd-8b08-68c42e2876b6",
   "metadata": {},
   "source": [
    "Like trying to include a statement in a lambda, **adding type annotation immediately results in a ``SyntaxError`` at runtime.**"
   ]
  },
  {
   "cell_type": "markdown",
   "id": "c6247a5d-349a-44ac-a9b5-8627dfabf757",
   "metadata": {},
   "source": [
    "## Arguments"
   ]
  },
  {
   "cell_type": "markdown",
   "id": "1fc8d7f3-eaea-45f6-9960-eb389f5db4ee",
   "metadata": {},
   "source": [
    "Like a normal function object defined with def, Python lambda expressions support all the different ways of passing arguments. This includes:\n",
    "\n",
    "* Positional arguments\n",
    "* Named arguments (sometimes called keyword arguments)\n",
    "* Variable list of arguments (often referred to as varargs)\n",
    "* Variable list of keyword arguments"
   ]
  },
  {
   "cell_type": "code",
   "execution_count": 46,
   "id": "27be0444-3a59-4499-87fe-a0fe72415a61",
   "metadata": {},
   "outputs": [
    {
     "name": "stdout",
     "output_type": "stream",
     "text": [
      "6\n",
      "6\n",
      "6\n",
      "6\n",
      "6\n"
     ]
    }
   ],
   "source": [
    "print((lambda x, y, z: x + y + z)(1, 2, 3))\n",
    "print((lambda x, y, z=3: x + y + z)(1, 2))\n",
    "print((lambda x, y, z=3: x + y + z)(1, y=2))\n",
    "print((lambda *args: sum(args))(1,2,3))\n",
    "print((lambda **kwargs: sum(kwargs.values()))(one=1, two=2, three=3))"
   ]
  },
  {
   "cell_type": "markdown",
   "id": "b5b230bf-a1e1-47a6-979d-6ebddf30b813",
   "metadata": {
    "tags": []
   },
   "source": [
    "## Are Lambdas Pythonic or Not?"
   ]
  },
  {
   "cell_type": "markdown",
   "id": "7b2f7d6f-e687-4d7b-8e4b-0bbbc30e7bef",
   "metadata": {},
   "source": [
    "remember this note from pep8 :"
   ]
  },
  {
   "cell_type": "markdown",
   "id": "676b4dc9-d6f5-4805-91d5-5fe971b5dc8a",
   "metadata": {},
   "source": [
    "> **note:** Always use a def statement instead of an assignment statement that binds a lambda expression directly to an identifier."
   ]
  }
 ],
 "metadata": {
  "kernelspec": {
   "display_name": "Python 3 (ipykernel)",
   "language": "python",
   "name": "python3"
  },
  "language_info": {
   "codemirror_mode": {
    "name": "ipython",
    "version": 3
   },
   "file_extension": ".py",
   "mimetype": "text/x-python",
   "name": "python",
   "nbconvert_exporter": "python",
   "pygments_lexer": "ipython3",
   "version": "3.9.12"
  }
 },
 "nbformat": 4,
 "nbformat_minor": 5
}
