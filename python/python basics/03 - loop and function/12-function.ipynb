{
 "cells": [
  {
   "cell_type": "markdown",
   "id": "f77f01b2-c9b4-463e-9651-a0b4b46afdde",
   "metadata": {},
   "source": [
    "# function"
   ]
  },
  {
   "cell_type": "markdown",
   "id": "8d5ebf6b-9b7d-486b-b49b-3b8a609cd61e",
   "metadata": {},
   "source": [
    "* [What Is Function?](#What-Is-Function?)"
   ]
  },
  {
   "cell_type": "markdown",
   "id": "71a80333-e09f-48bb-8d3b-a769f9a2d355",
   "metadata": {},
   "source": [
    "You may be familiar with the mathematical concept of a function. A function is a relationship or mapping between one or more inputs and a set of outputs.\n",
    "```python\n",
    "z = f(x,y)\n",
    "```\n",
    "In programming, a function is a **self-contained block of code that encapsulates a specific task or related group of tasks.** "
   ]
  },
  {
   "cell_type": "markdown",
   "id": "baf7a496-3a3b-45d2-b606-998ada6fe8df",
   "metadata": {},
   "source": [
    " you’ve been introduced to some of the built-in functions provided by Python : \n",
    " ```python\n",
    " len()\n",
    " map()\n",
    " print()\n",
    " ```"
   ]
  },
  {
   "cell_type": "markdown",
   "id": "4fd76be4-c531-4af5-800c-5ce8bf4cfdb1",
   "metadata": {},
   "source": [
    "Each of these built-in functions performs a specific task. The code that accomplishes the task is defined somewhere, but you don’t need to know where or even how the code works. All you need to know about is the function’s interface:\n",
    "\n",
    "What arguments (if any) it takes\n",
    "What values (if any) it returns"
   ]
  },
  {
   "cell_type": "markdown",
   "id": "3413deb2-bab3-4900-a