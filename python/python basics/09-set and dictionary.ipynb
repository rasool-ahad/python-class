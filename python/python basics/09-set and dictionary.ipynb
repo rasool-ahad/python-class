{
 "cells": [
  {
   "cell_type": "markdown",
   "id": "f5fb311b-a0ce-40ef-90bf-2d93e1e53dfc",
   "metadata": {},
   "source": [
    "# Dictionaries in python"
   ]
  },
  {
   "cell_type": "markdown",
   "id": "a177c496-b5f9-407e-8292-07bab22a9aa3",
   "metadata": {},
   "source": [
    "* [Dictionary](#Dictionary)\n",
    "    * [Defining a Dictionary](#Defining-a-Dictionary)\n",
    "    * [Accessing Dictionary Values](#Accessing-Dictionary-Values)\n",
    "    * [Operators and Built-in Functions](#Operators-and-Built-in-Functions)\n",
    "    * [Built-in Dictionary Methods](#Built-in-Dictionary-Methods)"
   ]
  },
  {
   "cell_type": "markdown",
   "id": "c7bec1b0-2bbc-4465-ba10-f1a5cf93669a",
   "metadata": {},
   "source": [
    "## Dictionary"
   ]
  },
  {
   "cell_type": "markdown",
   "id": "76a334b5-3fee-4cb7-a8ef-62bab55119a7",
   "metadata": {},
   "source": [
    "Python provides another composite data type called a **dictionary** , which is similar to a list in that it is a collection of objects."
   ]
  },
  {
   "cell_type": "markdown",
   "id": "a094fffd-708f-4996-8ab3-d50952bafc8a",
   "metadata": {},
   "source": [
    "Dictionaries and lists share the following characteristics:\n",
    "\n",
    "* Both are mutable.\n",
    "* Both are dynamic. They can grow and shrink as needed.\n",
    "* Both can be nested. A list can contain another list. A dictionary can contain another dictionary. A dictionary can also contain a list, and vice versa."
   ]
  },
  {
   "cell_type": "markdown",
   "id": "6b96f6f2-7bcc-43d3-af81-dc1ca395585b",
   "metadata": {},
   "source": [
    "Dictionaries differ from lists primarily in how elements are accessed:\n",
    "\n",
    "* List elements are accessed by their position in the list, via indexing.\n",
    "* Dictionary elements are accessed via keys."
   ]
  },
  {
   "cell_type": "markdown",
   "id": "069e32c7-e74c-4c0c-91d1-2099644ec73a",
   "metadata": {},
   "source": [
    "## Defining a Dictionary"
   ]
  },
  {
   "cell_type": "markdown",
   "id": "4caba804-8717-4075-aa27-ce6dbfa198e7",
   "metadata": {},
   "source": [
    "A dictionary consists of a collection of key-value pairs. Each key-value pair maps the key to its associated value."
   ]
  },
  {
   "cell_type": "markdown",
   "id": "4b5e8504-941d-49b3-9712-f8141239cb89",
   "metadata": {},
   "source": [
    "```python\n",
    "d = {\n",
    "    <key>: <value>,\n",
    "    <key>: <value>,\n",
    "      .\n",
    "      .\n",
    "      .\n",
    "    <key>: <value>\n",
    "}\n",
    "```"
   ]
  },
  {
   "cell_type": "markdown",
   "id": "144ecd75-d610-46b2-98af-df71e98aaefb",
   "metadata": {},
   "source": [
    "example : "
   ]
  },
  {
   "cell_type": "code",
   "execution_count": 11,
   "id": "296f073e-f6de-47cf-b253-619c2b619d66",
   "metadata": {},
   "outputs": [],
   "source": [
    "user1 = {\n",
    "    \"name\": \"rasool\",\n",
    "    \"lastname\":\"ahadi\",\n",
    "    \"username\": \"rasool_ah\",\n",
    "    \"password\": \"1234\",\n",
    "    \n",
    "}"
   ]
  },
  {
   "cell_type": "markdown",
   "id": "f186e63b-5335-4ce5-800c-f93643ae5242",
   "metadata": {},
   "source": [
    "You can also construct a dictionary with the built-in ``dict()`` function : "
   ]
  },
  {
   "cell_type": "markdown",
   "id": "763b7c0d-bcee-4405-8381-197787e0849c",
   "metadata": {},
   "source": [
    "```python\n",
    "d = dict([\n",
    "    (<key>, <value>),\n",
    "    (<key>, <value),\n",
    "      .\n",
    "      .\n",
    "      .\n",
    "    (<key>, <value>)\n",
    "])\n",
    "```"
   ]
  },
  {
   "cell_type": "markdown",
   "id": "18c1d80a-b99e-4413-b288-64086334ee75",
   "metadata": {},
   "source": [
    "example : "
   ]
  },
  {
   "cell_type": "code",
   "execution_count": 17,
   "id": "60afd154-b34f-4af9-b86f-d6759b761f13",
   "metadata": {},
   "outputs": [],
   "source": [
    "user1 = dict([\n",
    "    (\"name\", \"rasool\"),\n",
    "    (\"lastname\",\"ahadi\"),\n",
    "    (\"username\", \"rasool_ah\"),\n",
    "    (\"password\", \"1234\")\n",
    "])"
   ]
  },
  {
   "cell_type": "markdown",
   "id": "d56138f2-3d90-485f-b83f-31a0e52921eb",
   "metadata": {},
   "source": [
    "If the key values are simple strings, they can be specified as keyword arguments : "
   ]
  },
  {
   "cell_type": "code",
   "execution_count": 20,
   "id": "70923816-14fa-4f9c-90e3-f8853bf059fb",
   "metadata": {},
   "outputs": [],
   "source": [
    "user1 = dict(\n",
    "    name= \"rasool\",\n",
    "    lastname=\"ahadi\",\n",
    "    username= \"rasool_ah\",\n",
    "    password= \"1234\"\n",
    ")"
   ]
  },
  {
   "cell_type": "code",
   "execution_count": 21,
   "id": "90fd8cb5-8908-4261-92f6-30a2a6371f04",
   "metadata": {},
   "outputs": [
    {
     "data": {
      "text/plain": [
       "dict"
      ]
     },
     "execution_count": 21,
     "metadata": {},
     "output_type": "execute_result"
    }
   ],
   "source": [
    "type(user1)"
   ]
  },
  {
   "cell_type": "code",
   "execution_count": 22,
   "id": "b51d7bd0-3410-4177-8377-9d2cc0e8076e",
   "metadata": {},
   "outputs": [
    {
     "data": {
      "text/plain": [
       "{'name': 'rasool',\n",
       " 'lastname': 'ahadi',\n",
       " 'username': 'rasool_ah',\n",
       " 'password': '1234'}"
      ]
     },
     "execution_count": 22,
     "metadata": {},
     "output_type": "execute_result"
    }
   ],
   "source": [
    "user1"
   ]
  },
  {
   "cell_type": "markdown",
   "id": "d80af80d-537a-4973-aea8-5e312ceb032f",
   "metadata": {},
   "source": [
    "The entries in the dictionary display in the order they were defined. But that is irrelevant when it comes to retrieving them. Dictionary elements are not accessed by numerical index:"
   ]
  },
  {
   "cell_type": "code",
   "execution_count": 25,
   "id": "7d10194e-dc94-4535-83fe-5187f87a46e4",
   "metadata": {},
   "outputs": [
    {
     "ename": "KeyError",
     "evalue": "1",
     "output_type": "error",
     "traceback": [
      "\u001b[1;31m---------------------------------------------------------------------------\u001b[0m",
      "\u001b[1;31mKeyError\u001b[0m                                  Traceback (most recent call last)",
      "Input \u001b[1;32mIn [25]\u001b[0m, in \u001b[0;36m<cell line: 1>\u001b[1;34m()\u001b[0m\n\u001b[1;32m----> 1\u001b[0m \u001b[43muser1\u001b[49m\u001b[43m[\u001b[49m\u001b[38;5;241;43m1\u001b[39;49m\u001b[43m]\u001b[49m\n",
      "\u001b[1;31mKeyError\u001b[0m: 1"
     ]
    }
   ],
   "source": [
    "user1[1]"
   ]
  },
  {
   "cell_type": "markdown",
   "id": "41504ae2-0a98-483b-aeaa-49411317516b",
   "metadata": {},
   "source": [
    "the values contained in the dictionary don’t need to be the same type :"
   ]
  },
  {
   "cell_type": "code",
   "execution_count": 43,
   "id": "4276c7c7-ac10-4570-85b7-183188863880",
   "metadata": {},
   "outputs": [
    {
     "data": {
      "text/plain": [
       "{1: 'ccc', 2.78: 'bbb'}"
      ]
     },
     "execution_count": 43,
     "metadata": {},
     "output_type": "execute_result"
    }
   ],
   "source": [
    "foo = {1: 'aaa', 2.78: 'bbb', True: 'ccc'}\n",
    "foo"
   ]
  },
  {
   "cell_type": "markdown",
   "id": "a668f736-096c-436b-863c-7ec9e118cca2",
   "metadata": {},
   "source": [
    "**a dictionary key must be of a type that is immutable.** You have already seen examples where several of the immutable types you are familiar with—integer, float, string, and Boolean, tuple—have served as dictionary keys."
   ]
  },
  {
   "cell_type": "code",
   "execution_count": 53,
   "id": "2591211b-e263-4435-9a59-78f3966b8247",
   "metadata": {},
   "outputs": [
    {
     "data": {
      "text/plain": [
       "'a'"
      ]
     },
     "execution_count": 53,
     "metadata": {},
     "output_type": "execute_result"
    }
   ],
   "source": [
    "d = {(1, 1): 'a', (1, 2): 'b', (2, 1): 'c', (2, 2): 'd'}\n",
    "d[(1,1)]"
   ]
  },
  {
   "cell_type": "code",
   "execution_count": 56,
   "id": "070fa10c-6dc0-4f26-82c0-3b545e148bd9",
   "metadata": {},
   "outputs": [
    {
     "ename": "TypeError",
     "evalue": "unhashable type: 'list'",
     "output_type": "error",
     "traceback": [
      "\u001b[1;31m---------------------------------------------------------------------------\u001b[0m",
      "\u001b[1;31mTypeError\u001b[0m                                 Traceback (most recent call last)",
      "Input \u001b[1;32mIn [56]\u001b[0m, in \u001b[0;36m<cell line: 1>\u001b[1;34m()\u001b[0m\n\u001b[1;32m----> 1\u001b[0m d \u001b[38;5;241m=\u001b[39m {[\u001b[38;5;241m1\u001b[39m, \u001b[38;5;241m1\u001b[39m]: \u001b[38;5;124m'\u001b[39m\u001b[38;5;124ma\u001b[39m\u001b[38;5;124m'\u001b[39m, [\u001b[38;5;241m1\u001b[39m, \u001b[38;5;241m2\u001b[39m]: \u001b[38;5;124m'\u001b[39m\u001b[38;5;124mb\u001b[39m\u001b[38;5;124m'\u001b[39m, [\u001b[38;5;241m2\u001b[39m, \u001b[38;5;241m1\u001b[39m]: \u001b[38;5;124m'\u001b[39m\u001b[38;5;124mc\u001b[39m\u001b[38;5;124m'\u001b[39m, [\u001b[38;5;241m2\u001b[39m, \u001b[38;5;241m2\u001b[39m]: \u001b[38;5;124m'\u001b[39m\u001b[38;5;124md\u001b[39m\u001b[38;5;124m'\u001b[39m}\n",
      "\u001b[1;31mTypeError\u001b[0m: unhashable type: 'list'"
     ]
    }
   ],
   "source": [
    "d = {[1, 1]: 'a', [1, 2]: 'b', [2, 1]: 'c', [2, 2]: 'd'}"
   ]
  },
  {
   "cell_type": "markdown",
   "id": "c58d19b8-969a-4f15-8951-3169273e1a90",
   "metadata": {},
   "source": [
    "> **Technical Note:** Why does the error message say **“unhashable”**?\n",
    "Technically, it is not quite correct to say an object must be immutable to be used as a dictionary key. More precisely, an object must be hashable, which means it can be passed to a hash function. A hash function takes data of arbitrary size and maps it to a relatively simpler fixed-size value called a hash value (or simply hash), which is used for table lookup and comparison."
   ]
  },
  {
   "cell_type": "markdown",
   "id": "02d5b114-8099-462f-aa57-58f0105e5506",
   "metadata": {},
   "source": [
    "## Accessing Dictionary Values"
   ]
  },
  {
   "cell_type": "markdown",
   "id": "2e63bf46-5da8-4edb-87a5-6415defed135",
   "metadata": {},
   "source": [
    "A value is retrieved from a dictionary by specifying its corresponding key in square brackets ([]):"
   ]
  },
  {
   "cell_type": "code",
   "execution_count": 28,
   "id": "7a79efdb-cdcd-4c35-84f2-026b880e55fc",
   "metadata": {},
   "outputs": [
    {
     "data": {
      "text/plain": [
       "'rasool'"
      ]
     },
     "execution_count": 28,
     "metadata": {},
     "output_type": "execute_result"
    }
   ],
   "source": [
    "user1[\"name\"]"
   ]
  },
  {
   "cell_type": "markdown",
   "id": "60cc6aa2-94cb-41ab-8d39-dc6fb3887fcf",
   "metadata": {},
   "source": [
    "If you refer to a key that is not in the dictionary, Python raises an exception:"
   ]
  },
  {
   "cell_type": "code",
   "execution_count": 30,
   "id": "3f773fed-8eae-41ae-8d06-13a507016ae1",
   "metadata": {},
   "outputs": [
    {
     "ename": "KeyError",
     "evalue": "'nickname'",
     "output_type": "error",
     "traceback": [
      "\u001b[1;31m---------------------------------------------------------------------------\u001b[0m",
      "\u001b[1;31mKeyError\u001b[0m                                  Traceback (most recent call last)",
      "Input \u001b[1;32mIn [30]\u001b[0m, in \u001b[0;36m<cell line: 1>\u001b[1;34m()\u001b[0m\n\u001b[1;32m----> 1\u001b[0m \u001b[43muser1\u001b[49m\u001b[43m[\u001b[49m\u001b[38;5;124;43m\"\u001b[39;49m\u001b[38;5;124;43mnickname\u001b[39;49m\u001b[38;5;124;43m\"\u001b[39;49m\u001b[43m]\u001b[49m\n",
      "\u001b[1;31mKeyError\u001b[0m: 'nickname'"
     ]
    }
   ],
   "source": [
    "user1[\"nickname\"]"
   ]
  },
  {
   "cell_type": "markdown",
   "id": "d0dfc8fa-72da-46c8-876b-56f1d5dcc6fb",
   "metadata": {},
   "source": [
    "Adding an entry to an existing dictionary is simply a matter of assigning a new key and value:"
   ]
  },
  {
   "cell_type": "code",
   "execution_count": 32,
   "id": "bf627622-cdb4-417f-b58d-771ad8fd0abd",
   "metadata": {},
   "outputs": [],
   "source": [
    "user1[\"nickname\"] = \"ra\""
   ]
  },
  {
   "cell_type": "code",
   "execution_count": 33,
   "id": "67ffb8dc-5760-42dc-8a5d-36c36b6bd98d",
   "metadata": {},
   "outputs": [
    {
     "data": {
      "text/plain": [
       "'ra'"
      ]
     },
     "execution_count": 33,
     "metadata": {},
     "output_type": "execute_result"
    }
   ],
   "source": [
    "user1[\"nickname\"]"
   ]
  },
  {
   "cell_type": "markdown",
   "id": "0efd295d-4b29-4da6-acf2-49241507668a",
   "metadata": {},
   "source": [
    "also you can update: "
   ]
  },
  {
   "cell_type": "code",
   "execution_count": 35,
   "id": "db5c022b-d8b6-49e9-b1d7-7e60855a9ab7",
   "metadata": {},
   "outputs": [],
   "source": [
    "user1[\"name\"] = \"hamed\""
   ]
  },
  {
   "cell_type": "code",
   "execution_count": 36,
   "id": "00507227-fc56-4298-9236-6fbc5419d7f8",
   "metadata": {},
   "outputs": [
    {
     "data": {
      "text/plain": [
       "'hamed'"
      ]
     },
     "execution_count": 36,
     "metadata": {},
     "output_type": "execute_result"
    }
   ],
   "source": [
    "user1[\"name\"]"
   ]
  },
  {
   "cell_type": "code",
   "execution_count": 51,
   "id": "5b12dd49-077e-41e2-9370-5449ad743185",
   "metadata": {},
   "outputs": [
    {
     "name": "stdout",
     "output_type": "stream",
     "text": [
      "aaa\n",
      "ccc\n"
     ]
    }
   ],
   "source": [
    "foo = {0: 'aaa', 2.78: 'bbb', True: 'ccc'}\n",
    "print(foo[0])\n",
    "print(foo[True])"
   ]
  },
  {
   "cell_type": "markdown",
   "id": "313761d9-3329-4f44-9de2-d8721c17b4a7",
   "metadata": {},
   "source": [
    "To delete an entry, use the del statement, specifying the key to delete:"
   ]
  },
  {
   "cell_type": "code",
   "execution_count": 38,
   "id": "117b7f15-ab73-481e-83a2-cc37041302c8",
   "metadata": {},
   "outputs": [],
   "source": [
    "del user1[\"name\"]"
   ]
  },
  {
   "cell_type": "code",
   "execution_count": 39,
   "id": "b95252ba-eab3-4861-8851-51d621661e12",
   "metadata": {},
   "outputs": [
    {
     "data": {
      "text/plain": [
       "{'lastname': 'ahadi',\n",
       " 'username': 'rasool_ah',\n",
       " 'password': '1234',\n",
       " 'nickname': 'ra'}"
      ]
     },
     "execution_count": 39,
     "metadata": {},
     "output_type": "execute_result"
    }
   ],
   "source": [
    "user1"
   ]
  },
  {
   "cell_type": "markdown",
   "id": "e3cdcd86-27d7-45dc-ab6b-61a506d184f4",
   "metadata": {},
   "source": [
    "> **Note:** Although access to items in a dictionary does not depend on order, Python does guarantee that the order of items in a dictionary is preserved. When displayed, items will appear in the order they were defined, and iteration through the keys will occur in that order as well. Items added to a dictionary are added at the end. If items are deleted, the order of the remaining items is retained.**(this fiture added after python 3.7)**"
   ]
  },
  {
   "cell_type": "markdown",
   "id": "6e4948a0-b185-4298-ae61-71dd1d5dc412",
   "metadata": {},
   "source": [
    "## Operators and Built-in Functions"
   ]
  },
  {
   "cell_type": "markdown",
   "id": "7ad2cc4b-321d-4c3b-908c-d6c82694c78a",
   "metadata": {},
   "source": [
    "You have already become familiar with many of the operators and built-in functions that can be used with strings, lists, and tuples. Some of these work with dictionaries as well."
   ]
  },
  {
   "cell_type": "code",
   "execution_count": 61,
   "id": "328aa95a-4333-4e29-9ada-ecaa4f79b2c6",
   "metadata": {},
   "outputs": [
    {
     "data": {
      "text/plain": [
       "{'lastname': 'ahadi',\n",
       " 'username': 'rasool_ah',\n",
       " 'password': '1234',\n",
       " 'nickname': 'ra'}"
      ]
     },
     "execution_count": 61,
     "metadata": {},
     "output_type": "execute_result"
    }
   ],
   "source": [
    "user1"
   ]
  },
  {
   "cell_type": "code",
   "execution_count": 62,
   "id": "d3b9fd44-70c3-4984-95c8-2ef2f0a65824",
   "metadata": {},
   "outputs": [
    {
     "data": {
      "text/plain": [
       "True"
      ]
     },
     "execution_count": 62,
     "metadata": {},
     "output_type": "execute_result"
    }
   ],
   "source": [
    "\"lastname\" in user1"
   ]
  },
  {
   "cell_type": "code",
   "execution_count": 63,
   "id": "0bc322be-7f6b-443d-b1ad-d77b3741cf35",
   "metadata": {},
   "outputs": [
    {
     "data": {
      "text/plain": [
       "4"
      ]
     },
     "execution_count": 63,
     "metadata": {},
     "output_type": "execute_result"
    }
   ],
   "source": [
    "len(user1)"
   ]
  },
  {
   "cell_type": "code",
   "execution_count": 64,
   "id": "6249ccc9-e8d4-4fb4-a3aa-e0ad8f42ca6b",
   "metadata": {},
   "outputs": [
    {
     "ename": "TypeError",
     "evalue": "unsupported operand type(s) for +: 'dict' and 'dict'",
     "output_type": "error",
     "traceback": [
      "\u001b[1;31m---------------------------------------------------------------------------\u001b[0m",
      "\u001b[1;31mTypeError\u001b[0m                                 Traceback (most recent call last)",
      "Input \u001b[1;32mIn [64]\u001b[0m, in \u001b[0;36m<cell line: 1>\u001b[1;34m()\u001b[0m\n\u001b[1;32m----> 1\u001b[0m \u001b[43muser1\u001b[49m\u001b[38;5;241;43m+\u001b[39;49m\u001b[43m{\u001b[49m\u001b[38;5;124;43m\"\u001b[39;49m\u001b[38;5;124;43mbirthday\u001b[39;49m\u001b[38;5;124;43m\"\u001b[39;49m\u001b[43m:\u001b[49m\u001b[43m \u001b[49m\u001b[38;5;124;43m\"\u001b[39;49m\u001b[38;5;124;43m1-1-1997\u001b[39;49m\u001b[38;5;124;43m\"\u001b[39;49m\u001b[43m}\u001b[49m\n",
      "\u001b[1;31mTypeError\u001b[0m: unsupported operand type(s) for +: 'dict' and 'dict'"
     ]
    }
   ],
   "source": [
    "user1+{\"birthday\": \"1-1-1997\"}"
   ]
  },
  {
   "cell_type": "markdown",
   "id": "7b84197f-d609-4388-b775-6cfdd522b728",
   "metadata": {},
   "source": [
    "## Built-in Dictionary Methods"
   ]
  },
  {
   "cell_type": "markdown",
   "id": "3820c80b-7f41-48ca-919c-72b1726392c5",
   "metadata": {},
   "source": [
    "* ```python\n",
    "d.clear()\n",
    "```"
   ]
  },
  {
   "cell_type": "code",
   "execution_count": 68,
   "id": "286261b5-2811-4852-aea2-9d95f1f0ca54",
   "metadata": {},
   "outputs": [
    {
     "data": {
      "text/plain": [
       "{'a': 10, 'b': 20, 'c': 30}"
      ]
     },
     "execution_count": 68,
     "metadata": {},
     "output_type": "execute_result"
    }
   ],
   "source": [
    "d = {'a': 10, 'b': 20, 'c': 30}\n",
    "d"
   ]
  },
  {
   "cell_type": "code",
   "execution_count": 69,
   "id": "c287f47a-82b7-4a95-9a6f-6f51b89aa7bc",
   "metadata": {},
   "outputs": [
    {
     "data": {
      "text/plain": [
       "{}"
      ]
     },
     "execution_count": 69,
     "metadata": {},
     "output_type": "execute_result"
    }
   ],
   "source": [
    "d.clear()\n",
    "d"
   ]
  },
  {
   "cell_type": "markdown",
   "id": "ae6aa980-b6ba-491a-b1e1-0ba7e17f7805",
   "metadata": {},
   "source": [
    "* ```python\n",
    "d.get(<key>[, <default>])\n",
    "```"
   ]
  },
  {
   "cell_type": "code",
   "execution_count": 70,
   "id": "dcfdfb16-69ed-458c-865f-92f2d2a2e2b8",
   "metadata": {},
   "outputs": [
    {
     "name": "stdout",
     "output_type": "stream",
     "text": [
      "20\n"
     ]
    }
   ],
   "source": [
    "d = {'a': 10, 'b': 20, 'c': 30}\n",
    "print(d.get('b'))"
   ]
  },
  {
   "cell_type": "code",
   "execution_count": 71,
   "id": "ec888e0c-dd9b-4414-a619-ec9c5f1c5f50",
   "metadata": {},
   "outputs": [
    {
     "name": "stdout",
     "output_type": "stream",
     "text": [
      "-1\n"
     ]
    }
   ],
   "source": [
    "print(d.get('z', -1))"
   ]
  },
  {
   "cell_type": "markdown",
   "id": "9cf5f7ed-5769-4e19-84ac-06d7a9069e35",
   "metadata": {},
   "source": [
    "* ```python\n",
    "d.items()\n",
    "```"
   ]
  },
  {
   "cell_type": "code",
   "execution_count": 76,
   "id": "900d9fb7-a7b4-4d81-aba2-aa84cbfa5e23",
   "metadata": {},
   "outputs": [
    {
     "data": {
      "text/plain": [
       "dict_items([('a', 10), ('b', 20), ('c', 30)])"
      ]
     },
     "execution_count": 76,
     "metadata": {},
     "output_type": "execute_result"
    }
   ],
   "source": [
    "d = {'a': 10, 'b': 20, 'c': 30}\n",
    "d.items()"
   ]
  },
  {
   "cell_type": "code",
   "execution_count": 77,
   "id": "0067c4fc-4478-4e4a-9c02-c8c45a1ba6ae",
   "metadata": {},
   "outputs": [
    {
     "data": {
      "text/plain": [
       "[('a', 10), ('b', 20), ('c', 30)]"
      ]
     },
     "execution_count": 77,
     "metadata": {},
     "output_type": "execute_result"
    }
   ],
   "source": [
    "list(d.items())"
   ]
  },
  {
   "cell_type": "markdown",
   "id": "3e5687ad-04e7-467e-a22e-dc08179bb998",
   "metadata": {},
   "source": [
    "* ```python\n",
    "d.keys()\n",
    "```"
   ]
  },
  {
   "cell_type": "code",
   "execution_count": 80,
   "id": "724eee69-4f38-4b2b-8bfd-3ed9364915b0",
   "metadata": {},
   "outputs": [
    {
     "data": {
      "text/plain": [
       "['a', 'b', 'c']"
      ]
     },
     "execution_count": 80,
     "metadata": {},
     "output_type": "execute_result"
    }
   ],
   "source": [
    "d = {'a': 10, 'b': 20, 'c': 30}\n",
    "list(d.keys())"
   ]
  },
  {
   "cell_type": "markdown",
   "id": "5f14ae15-9c76-4276-a937-25c4cb23ed07",
   "metadata": {},
   "source": [
    "* ```python\n",
    "d.values()\n",
    "```"
   ]
  },
  {
   "cell_type": "code",
   "execution_count": 82,
   "id": "4118fc05-d576-4bb7-8c47-4d4c51d40538",
   "metadata": {},
   "outputs": [
    {
     "data": {
      "text/plain": [
       "[10, 20, 30]"
      ]
     },
     "execution_count": 82,
     "metadata": {},
     "output_type": "execute_result"
    }
   ],
   "source": [
    "d = {'a': 10, 'b': 20, 'c': 30}\n",
    "list(d.values())"
   ]
  },
  {
   "cell_type": "markdown",
   "id": "e6fa6614-fd67-4c94-a5af-c520b4d43851",
   "metadata": {},
   "source": [
    "```python\n",
    "d.pop(<key>[, <default>])\n",
    "```"
   ]
  },
  {
   "cell_type": "code",
   "execution_count": 84,
   "id": "242129ca-6e9d-45e5-a5fe-524cf9aee831",
   "metadata": {},
   "outputs": [
    {
     "data": {
      "text/plain": [
       "20"
      ]
     },
     "execution_count": 84,
     "metadata": {},
     "output_type": "execute_result"
    }
   ],
   "source": [
    "d = {'a': 10, 'b': 20, 'c': 30}\n",
    "d.pop('b')"
   ]
  },
  {
   "cell_type": "code",
   "execution_count": 85,
   "id": "9e944be7-1c8b-4c5b-b765-fba3f3317966",
   "metadata": {},
   "outputs": [
    {
     "data": {
      "text/plain": [
       "-1"
      ]
     },
     "execution_count": 85,
     "metadata": {},
     "output_type": "execute_result"
    }
   ],
   "source": [
    "d.pop('z', -1)"
   ]
  },
  {
   "cell_type": "markdown",
   "id": "a42752ed-2cff-4ced-b856-09004fd83cdd",
   "metadata": {},
   "source": [
    "```python\n",
    "d.popitem()\n",
    "```"
   ]
  },
  {
   "cell_type": "code",
   "execution_count": 87,
   "id": "6a908bef-101f-4056-8289-944fdf747f3e",
   "metadata": {},
   "outputs": [
    {
     "data": {
      "text/plain": [
       "('c', 30)"
      ]
     },
     "execution_count": 87,
     "metadata": {},
     "output_type": "execute_result"
    }
   ],
   "source": [
    "d = {'a': 10, 'b': 20, 'c': 30}\n",
    "d.popitem()"
   ]
  },
  {
   "cell_type": "markdown",
   "id": "a739a1d0-3028-4946-86ac-f850fe24946b",
   "metadata": {},
   "source": [
    "> Note: In Python versions less than 3.6, popitem() would return an arbitrary (random) key-value pair since Python dictionaries were unordered before version 3.6."
   ]
  },
  {
   "cell_type": "markdown",
   "id": "ad7ff74e-c976-495f-9ad0-6e89a4522c53",
   "metadata": {},
   "source": [
    "```python\n",
    "d.update(<obj>)\n",
    "```"
   ]
  },
  {
   "cell_type": "code",
   "execution_count": 91,
   "id": "9040f3db-42ab-4e23-b432-f14451b5d41f",
   "metadata": {},
   "outputs": [
    {
     "data": {
      "text/plain": [
       "{'a': 10, 'b': 200, 'c': 30, 'd': 400}"
      ]
     },
     "execution_count": 91,
     "metadata": {},
     "output_type": "execute_result"
    }
   ],
   "source": [
    "d1 = {'a': 10, 'b': 20, 'c': 30}\n",
    "d2 = {'b': 200, 'd': 400}\n",
    "\n",
    "d1.update(d2)\n",
    "d1"
   ]
  }
 ],
 "metadata": {
  "kernelspec": {
   "display_name": "Python 3 (ipykernel)",
   "language": "python",
   "name": "python3"
  },
  "language_info": {
   "codemirror_mode": {
    "name": "ipython",
    "version": 3
   },
   "file_extension": ".py",
   "mimetype": "text/x-python",
   "name": "python",
   "nbconvert_exporter": "python",
   "pygments_lexer": "ipython3",
   "version": "3.9.12"
  }
 },
 "nbformat": 4,
 "nbformat_minor": 5
}
