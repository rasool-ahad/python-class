{
 "cells": [
  {
   "cell_type": "code",
   "execution_count": 57,
   "id": "b6ff70d4-dc09-486c-84f9-533cd1866670",
   "metadata": {},
   "outputs": [
    {
     "name": "stdout",
     "output_type": "stream",
     "text": [
      "2 apple cost $12\n"
     ]
    }
   ],
   "source": [
    "def f(x , qty=2, item=\"bananas\", price=12):\n",
    "    print(f'{qty} {item} cost ${price}')\n",
    "f(1, item= \"apple\")\n"
   ]
  },
  {
   "cell_type": "code",
   "execution_count": 103,
   "id": "e83b2641-d4bb-4b5b-ac11-4364f541c809",
   "metadata": {},
   "outputs": [
    {
     "ename": "SyntaxError",
     "evalue": "invalid syntax (1484912318.py, line 1)",
     "output_type": "error",
     "traceback": [
      "\u001b[1;36m  Input \u001b[1;32mIn [103]\u001b[1;36m\u001b[0m\n\u001b[1;33m    def addition(**name, x):\u001b[0m\n\u001b[1;37m                         ^\u001b[0m\n\u001b[1;31mSyntaxError\u001b[0m\u001b[1;31m:\u001b[0m invalid syntax\n"
     ]
    }
   ],
   "source": [
    "def addition(x , y, *name,**last , name= \"rasool\"):\n",
    "    print(x)\n",
    "    \n",
    "\n",
    "addition(name= \"rasool\", lastname= \"ahadi\")"
   ]
  }
 ],
 "metadata": {
  "kernelspec": {
   "display_name": "Python 3 (ipykernel)",
   "language": "python",
   "name": "python3"
  },
  "language_info": {
   "codemirror_mode": {
    "name": "ipython",
    "version": 3
   },
   "file_extension": ".py",
   "mimetype": "text/x-python",
   "name": "python",
   "nbconvert_exporter": "python",
   "pygments_lexer": "ipython3",
   "version": "3.9.12"
  }
 },
 "nbformat": 4,
 "nbformat_minor": 5
}
