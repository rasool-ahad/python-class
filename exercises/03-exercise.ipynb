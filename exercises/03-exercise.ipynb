{
 "cells": [
  {
   "cell_type": "markdown",
   "id": "53cabb0c-4029-493c-8cd5-eb8866f8e5a0",
   "metadata": {},
   "source": [
    "# 2 dimmentinal array exercise :"
   ]
  },
  {
   "cell_type": "markdown",
   "id": "271a0c9d-29ec-4686-a279-2f7e31bc6562",
   "metadata": {},
   "source": [
    "1- you can first exercise [here](https://quera.org/problemset/8938/)\n"
   ]
  }
 ],
 "metadata": {
  "kernelspec": {
   "display_name": "Python 3 (ipykernel)",
   "language": "python",
   "name": "python3"
  },
  "language_info": {
   "codemirror_mode": {
    "name": "ipython",
    "version": 3
   },
   "file_extension": ".py",
   "mimetype": "text/x-python",
   "name": "python",
   "nbconvert_exporter": "python",
   "pygments_lexer": "ipython3",
   "version": "3.9.12"
  }
 },
 "nbformat": 4,
 "nbformat_minor": 5
}
