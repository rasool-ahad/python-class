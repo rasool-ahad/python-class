{
 "cells": [
  {
   "cell_type": "markdown",
   "id": "53cabb0c-4029-493c-8cd5-eb8866f8e5a0",
   "metadata": {},
   "source": [
    "# 2 dimmentinal array exercise :"
   ]
  },
  {
   "cell_type": "markdown",
   "id": "2be9f897-fde0-4dff-acd2-b134d6484f10",
   "metadata": {},
   "source": [
    "<p style=\"text-align: right;\">\n",
    ".به تازگی اسنپ کار خود را گسترش داده‌است و علاوه بر ایران به مردم شکرستان هم سرویس می‌دهد\n",
    "<p/>"
   ]
  }
 ],
 "metadata": {
  "kernelspec": {
   "display_name": "Python 3 (ipykernel)",
   "language": "python",
   "name": "python3"
  },
  "language_info": {
   "codemirror_mode": {
    "name": "ipython",
    "version": 3
   },
   "file_extension": ".py",
   "mimetype": "text/x-python",
   "name": "python",
   "nbconvert_exporter": "python",
   "pygments_lexer": "ipython3",
   "version": "3.9.12"
  }
 },
 "nbformat": 4,
 "nbformat_minor": 5
}
